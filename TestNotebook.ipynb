{
 "cells": [
  {
   "cell_type": "code",
   "execution_count": 1,
   "id": "15a3e50a",
   "metadata": {},
   "outputs": [],
   "source": [
    "# note: code ripped from the frankly wonderful Neuromatch Deep Learning course: \n",
    "# https://deeplearning.neuromatch.io/tutorials/W1D1_BasicsAndPytorch/student/W1D1_Tutorial1.html#section-2-4-gpus\n",
    "# but pared down to a minimal working module by yours truly"
   ]
  },
  {
   "cell_type": "code",
   "execution_count": 2,
   "id": "4e46dea1",
   "metadata": {},
   "outputs": [],
   "source": [
    "# Imports\n",
    "import time\n",
    "import torch"
   ]
  },
  {
   "cell_type": "code",
   "execution_count": 3,
   "id": "2ade3c11",
   "metadata": {},
   "outputs": [],
   "source": [
    "# functions\n",
    "def timeFun(f, dim, iterations, device='cpu'):\n",
    "  iterations = iterations\n",
    "  t_total = 0\n",
    "  for _ in range(iterations):\n",
    "    start = time.time()\n",
    "    f(dim, device)\n",
    "    end = time.time()\n",
    "    t_total += end - start\n",
    "\n",
    "  if device == 'cpu':\n",
    "    print(f\"time taken for {iterations} iterations of {f.__name__}({dim}, {device}): {t_total:.5f}\")\n",
    "  else:\n",
    "    print(f\"time taken for {iterations} iterations of {f.__name__}({dim}, {device}): {t_total:.5f}\")\n",
    "    \n",
    "def set_device():\n",
    "  device = \"cuda\" if torch.cuda.is_available() else \"cpu\"\n",
    "  if device != \"cuda\":\n",
    "    print(\"GPU is not enabled in this notebook. \\n\"\n",
    "          \"If you want to enable it, in the menu under `Runtime` -> \\n\"\n",
    "          \"`Hardware accelerator.` and select `GPU` from the dropdown menu\")\n",
    "  else:\n",
    "    print(\"GPU is enabled in this notebook. \\n\"\n",
    "          \"If you want to disable it, in the menu under `Runtime` -> \\n\"\n",
    "          \"`Hardware accelerator.` and select `None` from the dropdown menu\")\n",
    "\n",
    "  return device\n",
    "\n",
    "def simpleFun(dim, device):\n",
    "  \"\"\"\n",
    "  Args:\n",
    "    dim: integer\n",
    "    device: \"cpu\" or \"cuda\"\n",
    "  Returns:\n",
    "    Nothing.\n",
    "  \"\"\"\n",
    "\n",
    "  # 2D tensor filled with uniform random numbers in [0,1), dim x dim\n",
    "  x = torch.rand(dim,dim,device=device) # don't use \"to\". just make it a cuda-native array (with device='cuda') and it'll go WAYYYYYYYYYY fuckin' faster (because you'll be abolishing the TRANSFER OVERHEAD!!!)\n",
    "  # 2D tensor filled with uniform random numbers in [0,1), dim x dim\n",
    "  y = torch.rand_like(x,device=device)\n",
    "  # 2D tensor filled with the scalar value 2, dim x dim\n",
    "  z = 2*torch.ones_like(x,device=device)\n",
    "\n",
    "  # elementwise multiplication of x and y\n",
    "  a = x * y\n",
    "  # matrix multiplication of x and y\n",
    "  b = x @ y\n",
    "\n",
    "  del x\n",
    "  del y\n",
    "  del z\n",
    "  del a\n",
    "  del b"
   ]
  },
  {
   "cell_type": "code",
   "execution_count": 4,
   "id": "7ec7a4ff",
   "metadata": {},
   "outputs": [
    {
     "name": "stdout",
     "output_type": "stream",
     "text": [
      "GPU is enabled in this notebook. \n",
      "If you want to disable it, in the menu under `Runtime` -> \n",
      "`Hardware accelerator.` and select `None` from the dropdown menu\n"
     ]
    }
   ],
   "source": [
    "# set device\n",
    "DEVICE = set_device()"
   ]
  },
  {
   "cell_type": "code",
   "execution_count": 5,
   "id": "5c806c78",
   "metadata": {},
   "outputs": [],
   "source": [
    "# params for timeFun\n",
    "dim = 10000\n",
    "iterations = 1"
   ]
  },
  {
   "cell_type": "code",
   "execution_count": 6,
   "id": "c534c90c",
   "metadata": {},
   "outputs": [
    {
     "name": "stdout",
     "output_type": "stream",
     "text": [
      "True\n",
      "time taken for 1 iterations of simpleFun(10000, cpu): 16.57237\n",
      "time taken for 1 iterations of simpleFun(10000, cuda): 3.14430\n"
     ]
    }
   ],
   "source": [
    "# test your GPU matrix multiplication against a CPU benchmark\n",
    "print(torch.cuda.is_available()) # if not available, a difference between the two should not be expected\n",
    "timeFun(f=simpleFun, dim=dim, iterations=iterations, device='cpu')\n",
    "timeFun(f=simpleFun, dim=dim, iterations=iterations, device=DEVICE)"
   ]
  }
 ],
 "metadata": {
  "kernelspec": {
   "display_name": "Python 3 (ipykernel)",
   "language": "python",
   "name": "python3"
  },
  "language_info": {
   "codemirror_mode": {
    "name": "ipython",
    "version": 3
   },
   "file_extension": ".py",
   "mimetype": "text/x-python",
   "name": "python",
   "nbconvert_exporter": "python",
   "pygments_lexer": "ipython3",
   "version": "3.9.7"
  }
 },
 "nbformat": 4,
 "nbformat_minor": 5
}
